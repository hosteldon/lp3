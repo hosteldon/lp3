{
  "metadata": {
    "kernelspec": {
      "name": "python",
      "display_name": "Python (Pyodide)",
      "language": "python"
    },
    "language_info": {
      "codemirror_mode": {
        "name": "python",
        "version": 3
      },
      "file_extension": ".py",
      "mimetype": "text/x-python",
      "name": "python",
      "nbconvert_exporter": "python",
      "pygments_lexer": "ipython3",
      "version": "3.8"
    }
  },
  "nbformat_minor": 4,
  "nbformat": 4,
  "cells": [
    {
      "cell_type": "code",
      "source": "def fractional_knapsack():\n    weights = [10, 20, 30]\n    values = [60, 100, 120]\n    capacity = 50  \n    res = 0\n    \n    for pair in sorted(zip(weights, values), key=lambda x: x[1] / x[0], reverse=True):\n        if capacity <= 0:\n            break  \n        if pair[0] > capacity:\n            res +=int(capacity * (pair[1] / pair[0]))\n            capacity = 0  \n        elif pair[0] <= capacity:\n            res+= pair[1]\n            capacity -=pair[0]\n        print(res)\n\nif __name__ == \"__main__\":\n    fractional_knapsack()\n",
      "metadata": {
        "trusted": true
      },
      "outputs": [
        {
          "name": "stdout",
          "text": "60\n160\n240\n",
          "output_type": "stream"
        }
      ],
      "execution_count": 1
    },
    {
      "cell_type": "code",
      "source": "",
      "metadata": {
        "trusted": true
      },
      "outputs": [],
      "execution_count": null
    }
  ]
}