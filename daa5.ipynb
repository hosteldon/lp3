{
  "metadata": {
    "kernelspec": {
      "name": "python",
      "display_name": "Python (Pyodide)",
      "language": "python"
    },
    "language_info": {
      "codemirror_mode": {
        "name": "python",
        "version": 3
      },
      "file_extension": ".py",
      "mimetype": "text/x-python",
      "name": "python",
      "nbconvert_exporter": "python",
      "pygments_lexer": "ipython3",
      "version": "3.8"
    }
  },
  "nbformat_minor": 4,
  "nbformat": 4,
  "cells": [
    {
      "cell_type": "code",
      "source": "def n_queens(n):\n    col = set()  \n    posDiag = set()  \n    negDiag = set()  \n    res = [] \n\n    board = [[\"0\"] * n for _ in range(n)]\n\n    def backtrack(r):\n\n        if r == n:\n            copy = [\" \".join(row) for row in board]\n            res.append(copy)\n            return\n        for c in range(n):\n\n            if c in col or (r + c) in posDiag or (r - c) in negDiag:\n                continue\n\n            col.add(c)\n            posDiag.add(r + c)\n            negDiag.add(r - c)\n            board[r][c] = \"1\"\n\n            backtrack(r + 1)\n\n            col.remove(c)\n            posDiag.remove(r + c)\n            negDiag.remove(r - c)\n            board[r][c] = \"0\"\n\n    backtrack(0)\n\n    for sol in res:\n        for row in sol:\n            print(row)\n        print()\n\n\nn_queens(4)",
      "metadata": {
        "trusted": true
      },
      "outputs": [
        {
          "name": "stdout",
          "text": "0 1 0 0\n0 0 0 1\n1 0 0 0\n0 0 1 0\n\n0 0 1 0\n1 0 0 0\n0 0 0 1\n0 1 0 0\n\n",
          "output_type": "stream"
        }
      ],
      "execution_count": 1
    },
    {
      "cell_type": "code",
      "source": "",
      "metadata": {
        "trusted": true
      },
      "outputs": [],
      "execution_count": null
    },
    {
      "cell_type": "code",
      "source": "",
      "metadata": {
        "trusted": true
      },
      "outputs": [],
      "execution_count": null
    }
  ]
}