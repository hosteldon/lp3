{
  "metadata": {
    "kernelspec": {
      "name": "python",
      "display_name": "Python (Pyodide)",
      "language": "python"
    },
    "language_info": {
      "codemirror_mode": {
        "name": "python",
        "version": 3
      },
      "file_extension": ".py",
      "mimetype": "text/x-python",
      "name": "python",
      "nbconvert_exporter": "python",
      "pygments_lexer": "ipython3",
      "version": "3.8"
    }
  },
  "nbformat_minor": 4,
  "nbformat": 4,
  "cells": [
    {
      "cell_type": "code",
      "source": "def solve_knapsack():\n    val = [50, 100, 150, 200] \n    wt = [8, 16, 32, 40]  \n    W = 64  \n    n = len(val) \n\n    def knapsack(W, n):\n        if n == 0 or W == 0:\n            return 0 \n        if wt[n-1] > W:\n            return knapsack(W, n-1)    \n        else:\n            return max(\n                val[n-1] + knapsack(W - wt[n-1], n-1),knapsack(W, n-1)  \n            )\n        \n    print(knapsack(W, n))\n\nsolve_knapsack()\n",
      "metadata": {
        "trusted": true
      },
      "outputs": [
        {
          "name": "stdout",
          "text": "350\n",
          "output_type": "stream"
        }
      ],
      "execution_count": 1
    },
    {
      "cell_type": "code",
      "source": "",
      "metadata": {
        "trusted": true
      },
      "outputs": [],
      "execution_count": null
    }
  ]
}