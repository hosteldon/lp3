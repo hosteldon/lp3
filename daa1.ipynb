{
  "metadata": {
    "kernelspec": {
      "name": "python",
      "display_name": "Python (Pyodide)",
      "language": "python"
    },
    "language_info": {
      "codemirror_mode": {
        "name": "python",
        "version": 3
      },
      "file_extension": ".py",
      "mimetype": "text/x-python",
      "name": "python",
      "nbconvert_exporter": "python",
      "pygments_lexer": "ipython3",
      "version": "3.8"
    }
  },
  "nbformat_minor": 4,
  "nbformat": 4,
  "cells": [
    {
      "cell_type": "code",
      "source": "def recursive_fibonacci(n):\n    if n <= 1:\n        return n\n    else: \n        return recursive_fibonacci(n-1)+ recursive_fibonacci(n-2)\n\ndef non_recursive_fibonacci(n):\n    first = 0\n    second = 1\n    print(first)\n    print(second)\n    while n-2 > 0:\n        third=first + second\n        first=second\n        second=third\n        print(third)\n        n-=1\n\nif __name__== \"__main__\":\n    print(\"Recursive : \")\n    n=10\n    for i in range(n):\n        print(recursive_fibonacci(i))\n        \nprint(\"Non Recursive : \")\nnon_recursive_fibonacci(n)\n\n",
      "metadata": {
        "trusted": true
      },
      "outputs": [
        {
          "name": "stdout",
          "text": "Recursive : \n0\n1\n1\n2\n3\n5\n8\n13\n21\n34\nNon Recursive : \n0\n1\n1\n2\n3\n5\n8\n13\n21\n34\n",
          "output_type": "stream"
        }
      ],
      "execution_count": 2
    },
    {
      "cell_type": "code",
      "source": "",
      "metadata": {
        "trusted": true
      },
      "outputs": [],
      "execution_count": null
    }
  ]
}